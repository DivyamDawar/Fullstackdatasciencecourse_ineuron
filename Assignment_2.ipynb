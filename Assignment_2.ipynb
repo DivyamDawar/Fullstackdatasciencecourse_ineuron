{
 "cells": [
  {
   "cell_type": "raw",
   "id": "f86060b5",
   "metadata": {},
   "source": [
    "1.What are the two values of the Boolean data type? How do you write them?\n",
    "\n",
    "Ans. True & False. We can write by True T, False F."
   ]
  },
  {
   "cell_type": "raw",
   "id": "abe0a606",
   "metadata": {},
   "source": [
    "2. What are the three different types of Boolean operators?\n",
    "\n",
    "Ans. AND, OR, NOT"
   ]
  },
  {
   "cell_type": "raw",
   "id": "70442ae9",
   "metadata": {},
   "source": [
    "3. Make a list of each Boolean operator's truth tables (i.e. every possible combination of Boolean\n",
    "values for the operator and what it evaluate ).\n",
    "\n",
    "Ans. \n",
    "\n",
    "AND\n",
    "A B evaluation\n",
    "0 0 0\n",
    "0 1 0\n",
    "1 0 0\n",
    "1 1 1\n",
    "\n",
    "OR\n",
    "A B evaluation\n",
    "0 0 0\n",
    "0 1 1\n",
    "1 0 1\n",
    "1 1 1\n",
    "\n",
    "NOT\n",
    "A evaluation\n",
    "0 1\n",
    "1 0"
   ]
  },
  {
   "cell_type": "raw",
   "id": "78fbd47e",
   "metadata": {},
   "source": [
    "4. What are the values of the following expressions?\n",
    "(5 > 4) and (3 == 5)\n",
    "not (5 > 4)\n",
    "(5 > 4) or (3 == 5)\n",
    "not ((5 > 4) or (3 == 5))\n",
    "(True and True) and (True == False)\n",
    "(not False) or (not True)\n",
    "\n",
    "Ans.\n",
    "\n",
    "False\n",
    "False\n",
    "True\n",
    "False\n",
    "False\n",
    "True"
   ]
  },
  {
   "cell_type": "raw",
   "id": "cc407657",
   "metadata": {},
   "source": [
    "5. What are the six comparison operators?\n",
    "\n",
    "Ans.\n",
    "<,>,<=,>=,== & !="
   ]
  },
  {
   "cell_type": "raw",
   "id": "e6407a79",
   "metadata": {},
   "source": [
    "6. How do you tell the difference between the equal to and assignment operators?Describe a\n",
    "condition and when you would use one.\n",
    "\n",
    "Ans.\n",
    "\n",
    "Difference between equal & assignment operator is in equal operator we use double \"==\" (equal to) & in assignment we use single \"=\" (equal to).\n",
    "\n",
    "a=3 #assignment operator\n",
    "b=3 #assignment operator\n",
    "a==b #equal operator\n"
   ]
  },
  {
   "cell_type": "code",
   "execution_count": null,
   "id": "3bb58daa",
   "metadata": {},
   "outputs": [],
   "source": [
    "7. Identify the three blocks in this code:\n",
    "spam = 0\n",
    "if spam == 10:\n",
    "print('eggs')\n",
    "if spam > 5:\n",
    "print('bacon')\n",
    "else:\n",
    "print('ham')\n",
    "print('spam')\n",
    "print('spam')\n",
    "\n",
    "Ans. \n",
    "\n",
    "spam = 0\n",
    "\n",
    "1st block\n",
    "if spam == 10:\n",
    "    print('eggs')\n",
    "\n",
    "2nd block\n",
    "if spam > 5:\n",
    "    print('bacon')\n",
    "\n",
    "3rd block\n",
    "else:\n",
    "    print('ham')\n",
    "    print('spam')\n",
    "    print('spam')\n"
   ]
  },
  {
   "cell_type": "code",
   "execution_count": null,
   "id": "6ecd8652",
   "metadata": {},
   "outputs": [],
   "source": [
    "8. Write code that prints Hello if 1 is stored in spam, prints Howdy if 2 is stored in spam, and prints\n",
    "Greetings! if anything else is stored in spam.\n",
    "\n",
    "Ans.\n",
    "\n",
    "spam=0\n",
    "# 1st block\n",
    "if spam == 1:\n",
    "    print('Hello')\n",
    "\n",
    "# 2nd block\n",
    "elif spam == 2:\n",
    "    print('Howdy')\n",
    "\n",
    "# 3rd block\n",
    "else:\n",
    "    print('Greetings!)"
   ]
  },
  {
   "cell_type": "raw",
   "id": "d6020a39",
   "metadata": {},
   "source": [
    "9.If your programme is stuck in an endless loop, what keys you’ll press?\n",
    "\n",
    "Ans. We will have to restart the current kernel."
   ]
  },
  {
   "cell_type": "raw",
   "id": "9bdaff5e",
   "metadata": {},
   "source": [
    "10. How can you tell the difference between break and continue?\n",
    "\n",
    "Ans. The break statement will exit out of the loop at a particular critera & will proceed for next step outside the loop whereas continue will go back to the start of the loop to start the iteration process again instead of running the code below continue for that iteration in that loop."
   ]
  },
  {
   "cell_type": "raw",
   "id": "5f81b584",
   "metadata": {},
   "source": [
    "11. In a for loop, what is the difference between range(10), range(0, 10), and range(0, 10, 1)?\n",
    "\n",
    "Ans.\n",
    "\n",
    "In a for loop all of these notations generates same iterable list starting from 0 index (lower bound) to 9 (leaving the upper bound 10).\n",
    "[1,2,3,.....9]"
   ]
  },
  {
   "cell_type": "code",
   "execution_count": null,
   "id": "ac84b92e",
   "metadata": {},
   "outputs": [],
   "source": [
    "\n",
    "12. Write a short program that prints the numbers 1 to 10 using a for loop. Then write an equivalent\n",
    "program that prints the numbers 1 to 10 using a while loop.\n",
    "\n",
    "Ans.\n",
    "\n",
    "for i in range(1,11):\n",
    "    print(i)\n",
    "    \n",
    "i=1\n",
    "while i<=10:\n",
    "    print(i)\n",
    "    i+=1\n",
    "\n",
    "#using break statement\n",
    "a=1\n",
    "while a:\n",
    "    print(a)\n",
    "    a+=1\n",
    "    if a==11:\n",
    "        break"
   ]
  },
  {
   "cell_type": "raw",
   "id": "b79df874",
   "metadata": {},
   "source": [
    "13. If you had a function named bacon() inside a module named spam, how would you call it after\n",
    "importing spam?\n",
    "\n",
    "Ans,\n",
    "\n",
    "spam.bacon()"
   ]
  }
 ],
 "metadata": {
  "kernelspec": {
   "display_name": "Python 3 (ipykernel)",
   "language": "python",
   "name": "python3"
  },
  "language_info": {
   "codemirror_mode": {
    "name": "ipython",
    "version": 3
   },
   "file_extension": ".py",
   "mimetype": "text/x-python",
   "name": "python",
   "nbconvert_exporter": "python",
   "pygments_lexer": "ipython3",
   "version": "3.9.7"
  }
 },
 "nbformat": 4,
 "nbformat_minor": 5
}

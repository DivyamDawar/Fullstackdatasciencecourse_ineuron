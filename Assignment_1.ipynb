{
 "cells": [
  {
   "cell_type": "code",
   "execution_count": null,
   "id": "f0f46618",
   "metadata": {},
   "outputs": [],
   "source": [
    "1. In the below elements which of them are values or an expression? eg:- values can be\n",
    "integer or string and expressions will be mathematical operators.\n",
    "*\n",
    "&#39;hello&#39;\n",
    "-87.8\n",
    "-\n",
    "/\n",
    "+\n",
    "6\n"
   ]
  },
  {
   "cell_type": "code",
   "execution_count": null,
   "id": "c68b7fee",
   "metadata": {},
   "outputs": [],
   "source": [
    "Ans1. \n",
    "* : expression\n",
    "&#39;hello&#39; : value (# is used for comment)\n",
    "-87.8 : value\n",
    "- : expression\n",
    "/ : expression\n",
    "+ : expression\n",
    "6 : value"
   ]
  },
  {
   "cell_type": "code",
   "execution_count": null,
   "id": "664a3f68",
   "metadata": {},
   "outputs": [],
   "source": [
    "2. What is the difference between string and variable?"
   ]
  },
  {
   "cell_type": "code",
   "execution_count": null,
   "id": "c502cb18",
   "metadata": {},
   "outputs": [],
   "source": [
    "Ans2.\n",
    "String - An immutable series or sequence of characters.\n",
    "Variable - A variable is element which can change/variate. It is the storage of data in reserved memory which can be used to define some information and communicates with computer for operations. "
   ]
  },
  {
   "cell_type": "code",
   "execution_count": null,
   "id": "aced77fc",
   "metadata": {},
   "outputs": [],
   "source": [
    "3. Describe three different data types."
   ]
  },
  {
   "cell_type": "code",
   "execution_count": null,
   "id": "02b11b39",
   "metadata": {},
   "outputs": [],
   "source": [
    "Ans3.\n",
    "1. Text type - Str\n",
    "2. Numerical Type - Int, Float, Complex\n",
    "3. Sequence Type - List, Tuple\n",
    "4. Boolean type - Bool"
   ]
  },
  {
   "cell_type": "code",
   "execution_count": null,
   "id": "27e127f4",
   "metadata": {},
   "outputs": [],
   "source": [
    "4. What is an expression made up of? What do all expressions do?"
   ]
  },
  {
   "cell_type": "code",
   "execution_count": null,
   "id": "776bd204",
   "metadata": {},
   "outputs": [],
   "source": [
    "Ans4. \n",
    "An expression is a combination which can have operands, operators, resulst in form of variables, constants, logical/mathematical operations.\n"
   ]
  },
  {
   "cell_type": "code",
   "execution_count": null,
   "id": "f3d65c80",
   "metadata": {},
   "outputs": [],
   "source": [
    "5. This assignment statements, like spam = 10. What is the difference between an\n",
    "expression and a statement?"
   ]
  },
  {
   "cell_type": "code",
   "execution_count": null,
   "id": "e2f9a861",
   "metadata": {},
   "outputs": [],
   "source": [
    "Ans5.\n",
    "\n",
    "Expression is a combination of values, constants, variables, logical, mathematical or any other operators which is used to run & evaluate to some result.\n",
    "\n",
    "Statement is like a command/code or instruction written to execute like if, while statement"
   ]
  },
  {
   "cell_type": "code",
   "execution_count": null,
   "id": "9f0c0930",
   "metadata": {},
   "outputs": [],
   "source": [
    "6. After running the following code, what does the variable bacon contain?\n",
    "bacon = 22\n",
    "bacon + 1"
   ]
  },
  {
   "cell_type": "code",
   "execution_count": null,
   "id": "236354a8",
   "metadata": {},
   "outputs": [],
   "source": [
    "Ans6. 23"
   ]
  },
  {
   "cell_type": "code",
   "execution_count": null,
   "id": "74fc278b",
   "metadata": {},
   "outputs": [],
   "source": [
    "7. What should the values of the following two terms be?\n",
    "&#39;spam&#39; + &#39;spamspam&#39;\n",
    "&#39;spam&#39; * 3"
   ]
  },
  {
   "cell_type": "code",
   "execution_count": null,
   "id": "e4e295db",
   "metadata": {},
   "outputs": [],
   "source": [
    "Ans7. It shall return invalid syntax due to no condition written after use of ampersand & which is a bitwise operator"
   ]
  },
  {
   "cell_type": "code",
   "execution_count": null,
   "id": "1cf48ab0",
   "metadata": {},
   "outputs": [],
   "source": [
    "8. Why is eggs a valid variable name while 100 is invalid?"
   ]
  },
  {
   "cell_type": "code",
   "execution_count": null,
   "id": "cec2bc48",
   "metadata": {},
   "outputs": [],
   "source": [
    "Ans8.\n",
    "Because a variable name can only be started with a letter or underscore character. It can never start with number as per naming conventions set for python language."
   ]
  },
  {
   "cell_type": "code",
   "execution_count": null,
   "id": "dbfaf874",
   "metadata": {},
   "outputs": [],
   "source": [
    "9. What three functions can be used to get the integer, floating-point number, or string\n",
    "version of a value?"
   ]
  },
  {
   "cell_type": "code",
   "execution_count": null,
   "id": "d4398558",
   "metadata": {},
   "outputs": [],
   "source": [
    "Ans9. int(), float(), str() can be used."
   ]
  },
  {
   "cell_type": "code",
   "execution_count": null,
   "id": "82392eed",
   "metadata": {},
   "outputs": [],
   "source": [
    "10. Why does this expression cause an error? How can you fix it?\n",
    "&#39;I have eaten &#39; + 99 + &#39; burritos.&#39;"
   ]
  },
  {
   "cell_type": "code",
   "execution_count": null,
   "id": "984355a8",
   "metadata": {},
   "outputs": [],
   "source": [
    "Ans10. \n",
    "First of all in above expression comments \"#hashtag\" which is bit confusing what to do with. As comments are there \n",
    "mentioned after which actions cannot be performed & code remains only for reading. After that \"I have eaten 39\" is a string\n",
    "& whereas we are adding int that is 99 after that which cannot be concatenated.\n",
    "We can write below to make it work-\n",
    "\" I have eaten \"+str(39+99+39)+\" burritos\""
   ]
  },
  {
   "cell_type": "code",
   "execution_count": null,
   "id": "209feb36",
   "metadata": {},
   "outputs": [],
   "source": []
  },
  {
   "cell_type": "code",
   "execution_count": null,
   "id": "3f74dc78",
   "metadata": {},
   "outputs": [],
   "source": []
  }
 ],
 "metadata": {
  "kernelspec": {
   "display_name": "Python 3 (ipykernel)",
   "language": "python",
   "name": "python3"
  },
  "language_info": {
   "codemirror_mode": {
    "name": "ipython",
    "version": 3
   },
   "file_extension": ".py",
   "mimetype": "text/x-python",
   "name": "python",
   "nbconvert_exporter": "python",
   "pygments_lexer": "ipython3",
   "version": "3.9.7"
  }
 },
 "nbformat": 4,
 "nbformat_minor": 5
}

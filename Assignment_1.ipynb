{
 "cells": [
  {
   "cell_type": "code",
   "execution_count": null,
   "id": "657917e9",
   "metadata": {},
   "outputs": [],
   "source": [
    "1. In the below elements which of them are values or an expression? eg:- values can be\n",
    "integer or string and expressions will be mathematical operators.\n",
    "*\n",
    "'hello'\n",
    "-87.8\n",
    "-\n",
    "/\n",
    "+\n",
    "6\n"
   ]
  },
  {
   "cell_type": "code",
   "execution_count": null,
   "id": "f6eea6bf",
   "metadata": {},
   "outputs": [],
   "source": [
    "Ans1. \n",
    "* : expression\n",
    "'hello' : value \n",
    "-87.8 : value\n",
    "- : expression\n",
    "/ : expression\n",
    "+ : expression\n",
    "6 : value"
   ]
  },
  {
   "cell_type": "code",
   "execution_count": null,
   "id": "672f19f9",
   "metadata": {},
   "outputs": [],
   "source": [
    "2. What is the difference between string and variable?"
   ]
  },
  {
   "cell_type": "code",
   "execution_count": null,
   "id": "49452f41",
   "metadata": {},
   "outputs": [],
   "source": [
    "Ans2.\n",
    "String - An immutable series or sequence of characters.\n",
    "Variable - A variable is element which can change/variate. It is the storage of data in reserved memory which can be used to define some information and communicates with computer for operations. "
   ]
  },
  {
   "cell_type": "code",
   "execution_count": null,
   "id": "8abc7105",
   "metadata": {},
   "outputs": [],
   "source": [
    "3. Describe three different data types."
   ]
  },
  {
   "cell_type": "code",
   "execution_count": null,
   "id": "6414cb4f",
   "metadata": {},
   "outputs": [],
   "source": [
    "Ans3.\n",
    "1. Text type - Str\n",
    "2. Numerical Type - Int, Float, Complex\n",
    "3. Sequence Type - List, Tuple\n",
    "4. Boolean type - Bool"
   ]
  },
  {
   "cell_type": "code",
   "execution_count": null,
   "id": "9bd26ca0",
   "metadata": {},
   "outputs": [],
   "source": [
    "4. What is an expression made up of? What do all expressions do?"
   ]
  },
  {
   "cell_type": "code",
   "execution_count": null,
   "id": "ba423b3a",
   "metadata": {},
   "outputs": [],
   "source": [
    "Ans4. \n",
    "An expression is a combination which can have operands, operators, resulst in form of variables, constants, logical/mathematical operations.\n"
   ]
  },
  {
   "cell_type": "code",
   "execution_count": null,
   "id": "27b9643e",
   "metadata": {},
   "outputs": [],
   "source": [
    "5. This assignment statements, like spam = 10. What is the difference between an\n",
    "expression and a statement?"
   ]
  },
  {
   "cell_type": "code",
   "execution_count": null,
   "id": "220c544d",
   "metadata": {},
   "outputs": [],
   "source": [
    "Ans5.\n",
    "\n",
    "Expression is a combination of values, constants, variables, logical, mathematical or any other operators which is used to run & evaluate to some result.\n",
    "\n",
    "Statement is like a command/code or instruction written to execute like if, while statement"
   ]
  },
  {
   "cell_type": "code",
   "execution_count": null,
   "id": "b6139e5b",
   "metadata": {},
   "outputs": [],
   "source": [
    "6. After running the following code, what does the variable bacon contain?\n",
    "bacon = 22\n",
    "bacon + 1"
   ]
  },
  {
   "cell_type": "code",
   "execution_count": null,
   "id": "fbfe8714",
   "metadata": {},
   "outputs": [],
   "source": [
    "Ans6. 23"
   ]
  },
  {
   "cell_type": "code",
   "execution_count": null,
   "id": "254b53db",
   "metadata": {},
   "outputs": [],
   "source": [
    "7. What should the values of the following two terms be?\n",
    "'spam'+'spamspam'\n",
    "'spam'*3"
   ]
  },
  {
   "cell_type": "code",
   "execution_count": null,
   "id": "5032b0f9",
   "metadata": {},
   "outputs": [],
   "source": [
    "Ans7. It shall return same answers."
   ]
  },
  {
   "cell_type": "code",
   "execution_count": null,
   "id": "32951829",
   "metadata": {},
   "outputs": [],
   "source": [
    "8. Why is eggs a valid variable name while 100 is invalid?"
   ]
  },
  {
   "cell_type": "code",
   "execution_count": null,
   "id": "fae0d685",
   "metadata": {},
   "outputs": [],
   "source": [
    "Ans8.\n",
    "Because a variable name can only be started with a letter or underscore character. It can never start with number as per naming conventions set for python language."
   ]
  },
  {
   "cell_type": "code",
   "execution_count": null,
   "id": "31507fba",
   "metadata": {},
   "outputs": [],
   "source": [
    "9. What three functions can be used to get the integer, floating-point number, or string\n",
    "version of a value?"
   ]
  },
  {
   "cell_type": "code",
   "execution_count": null,
   "id": "4179df2b",
   "metadata": {},
   "outputs": [],
   "source": [
    "Ans9. int(), float(), str() can be used."
   ]
  },
  {
   "cell_type": "code",
   "execution_count": null,
   "id": "4de3cf0d",
   "metadata": {},
   "outputs": [],
   "source": [
    "10. Why does this expression cause an error? How can you fix it?\n",
    "'I have eaten' + 99 + 'burritos'"
   ]
  },
  {
   "cell_type": "code",
   "execution_count": null,
   "id": "321e61eb",
   "metadata": {},
   "outputs": [],
   "source": [
    "Ans10. \n",
    "\"I have eaten\" is a string & whereas we are concatenating int datatype with str which is not possible.\n",
    "So we can write below to make it work with typecasting int into str to concatenate-\n",
    "\" I have eaten \"+str(99)+\" burritos\""
   ]
  },
  {
   "cell_type": "code",
   "execution_count": null,
   "id": "568ff682",
   "metadata": {},
   "outputs": [],
   "source": []
  },
  {
   "cell_type": "code",
   "execution_count": null,
   "id": "8f2bfdb3",
   "metadata": {},
   "outputs": [],
   "source": []
  }
 ],
 "metadata": {
  "kernelspec": {
   "display_name": "Python 3 (ipykernel)",
   "language": "python",
   "name": "python3"
  },
  "language_info": {
   "codemirror_mode": {
    "name": "ipython",
    "version": 3
   },
   "file_extension": ".py",
   "mimetype": "text/x-python",
   "name": "python",
   "nbconvert_exporter": "python",
   "pygments_lexer": "ipython3",
   "version": "3.9.7"
  }
 },
 "nbformat": 4,
 "nbformat_minor": 5
}

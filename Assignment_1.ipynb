{
 "cells": [
  {
   "cell_type": "raw",
   "id": "26ee2148",
   "metadata": {},
   "source": [
    "1. In the below elements which of them are values or an expression? eg:- values can be\n",
    "integer or string and expressions will be mathematical operators.\n",
    "*\n",
    "'hello'\n",
    "-87.8\n",
    "-\n",
    "/\n",
    "+\n",
    "6\n"
   ]
  },
  {
   "cell_type": "raw",
   "id": "638a407c",
   "metadata": {},
   "source": [
    "Ans1. \n",
    "* : expression\n",
    "'hello' : value\n",
    "-87.8 : value\n",
    "- : expression\n",
    "/ : expression\n",
    "+ : expression\n",
    "6 : value"
   ]
  },
  {
   "cell_type": "raw",
   "id": "d5a44c43",
   "metadata": {},
   "source": [
    "2. What is the difference between string and variable?"
   ]
  },
  {
   "cell_type": "raw",
   "id": "7a00a7c9",
   "metadata": {},
   "source": [
    "Ans2.\n",
    "String - An immutable series or sequence of characters.\n",
    "Variable - A variable is element which can change/variate. It is the storage of data in reserved memory which can be used to define some information and communicates with computer for operations. "
   ]
  },
  {
   "cell_type": "raw",
   "id": "792464be",
   "metadata": {},
   "source": [
    "3. Describe three different data types."
   ]
  },
  {
   "cell_type": "raw",
   "id": "6690eee5",
   "metadata": {},
   "source": [
    "Ans3.\n",
    "1. Text type - Str\n",
    "2. Numerical Type - Int, Float, Complex\n",
    "3. Sequence Type - List, Tuple\n",
    "4. Boolean type - Bool"
   ]
  },
  {
   "cell_type": "raw",
   "id": "5b9e82be",
   "metadata": {},
   "source": [
    "4. What is an expression made up of? What do all expressions do?"
   ]
  },
  {
   "cell_type": "raw",
   "id": "d1edb3e3",
   "metadata": {},
   "source": [
    "Ans4. \n",
    "An expression is a combination which can have operands, operators, resulst in form of variables, constants, logical/mathematical operations.\n"
   ]
  },
  {
   "cell_type": "raw",
   "id": "dd45fb68",
   "metadata": {},
   "source": [
    "5. This assignment statements, like spam = 10. What is the difference between an\n",
    "expression and a statement?"
   ]
  },
  {
   "cell_type": "raw",
   "id": "3d00ad1b",
   "metadata": {},
   "source": [
    "Ans5.\n",
    "\n",
    "Expression is a combination of values, constants, variables, logical, mathematical or any other operators which is used to run & evaluate to some result.\n",
    "\n",
    "Statement is like a command/code or instruction written to execute like if, while statement"
   ]
  },
  {
   "cell_type": "raw",
   "id": "6d04ab3c",
   "metadata": {},
   "source": [
    "6. After running the following code, what does the variable bacon contain?\n",
    "bacon = 22\n",
    "bacon + 1"
   ]
  },
  {
   "cell_type": "raw",
   "id": "e5fa767b",
   "metadata": {},
   "source": [
    "Ans6. 23"
   ]
  },
  {
   "cell_type": "raw",
   "id": "5c65ea57",
   "metadata": {},
   "source": [
    "7. What should the values of the following two terms be?\n",
    "'spam' + 'spamspam'\n",
    "'spam' * 3"
   ]
  },
  {
   "cell_type": "raw",
   "id": "882948c1",
   "metadata": {},
   "source": [
    "Ans7. It shall return same results i.e. 'spamspamspam'"
   ]
  },
  {
   "cell_type": "raw",
   "id": "ad80ce51",
   "metadata": {},
   "source": [
    "8. Why is eggs a valid variable name while 100 is invalid?"
   ]
  },
  {
   "cell_type": "raw",
   "id": "a16f97e2",
   "metadata": {},
   "source": [
    "Ans8.\n",
    "Because a variable name can only be started with a letter or underscore character. It can never start with number as per naming conventions set for python language."
   ]
  },
  {
   "cell_type": "raw",
   "id": "97e5929d",
   "metadata": {},
   "source": [
    "9. What three functions can be used to get the integer, floating-point number, or string\n",
    "version of a value?"
   ]
  },
  {
   "cell_type": "raw",
   "id": "33dc6bc6",
   "metadata": {},
   "source": [
    "Ans9. int(), float(), str() can be used."
   ]
  },
  {
   "cell_type": "raw",
   "id": "b2da1df9",
   "metadata": {},
   "source": [
    "10. Why does this expression cause an error? How can you fix it?\n",
    "'I have eaten' + 99 + 'burritos'"
   ]
  },
  {
   "cell_type": "raw",
   "id": "32ef0090",
   "metadata": {},
   "source": [
    "Ans10. \n",
    "As \"I have eaten 39\" & 'burritos' is a string & 99 is int, therefore concatenation is not possible.\n",
    "So, we can write below code to typecast int into str to make it work-\n",
    "\" I have eaten \"+str(99)+\" burritos\""
   ]
  }
 ],
 "metadata": {
  "kernelspec": {
   "display_name": "Python 3 (ipykernel)",
   "language": "python",
   "name": "python3"
  },
  "language_info": {
   "codemirror_mode": {
    "name": "ipython",
    "version": 3
   },
   "file_extension": ".py",
   "mimetype": "text/x-python",
   "name": "python",
   "nbconvert_exporter": "python",
   "pygments_lexer": "ipython3",
   "version": "3.9.7"
  }
 },
 "nbformat": 4,
 "nbformat_minor": 5
}

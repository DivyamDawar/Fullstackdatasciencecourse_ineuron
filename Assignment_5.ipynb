{
 "cells": [
  {
   "cell_type": "raw",
   "id": "d83fe432",
   "metadata": {},
   "source": [
    "1. What does an empty dictionary's code look like?"
   ]
  },
  {
   "cell_type": "raw",
   "id": "156d5d44",
   "metadata": {},
   "source": [
    "Ans1. \n",
    "x={}, y=dict()"
   ]
  },
  {
   "cell_type": "raw",
   "id": "2a1de1d9",
   "metadata": {},
   "source": [
    "2. What is the value of a dictionary value with the key 'foo' and the value 42?"
   ]
  },
  {
   "cell_type": "raw",
   "id": "3e56b507",
   "metadata": {},
   "source": [
    "Ans2. \n",
    "42 is the value & foo is the key in dictionary named value\n",
    "value['foo']=42 "
   ]
  },
  {
   "cell_type": "raw",
   "id": "f6e05a88",
   "metadata": {},
   "source": [
    "3. What is the most significant distinction between a dictionary and a list?\n"
   ]
  },
  {
   "cell_type": "raw",
   "id": "c6101b97",
   "metadata": {},
   "source": [
    "Ans3.\n",
    "list have square brackets [] whereas dict is having curly braces {}\n",
    "list can elements as all types whereas in dictionary keys shall be only string type, also all keys should be distinct whereas in list repetitions are not the issues."
   ]
  },
  {
   "cell_type": "raw",
   "id": "59d274c6",
   "metadata": {},
   "source": [
    "4. What happens if you try to access spam['foo'] if spam is {'bar': 100}?\n"
   ]
  },
  {
   "cell_type": "raw",
   "id": "eb486d19",
   "metadata": {},
   "source": [
    "Ans4.\n",
    "it will give - key error"
   ]
  },
  {
   "cell_type": "raw",
   "id": "c748ba39",
   "metadata": {},
   "source": [
    "5. If a dictionary is stored in spam, what is the difference between the expressions 'cat' in spam and 'cat' in spam.keys()?\n"
   ]
  },
  {
   "cell_type": "raw",
   "id": "6586ff5f",
   "metadata": {},
   "source": [
    "Ans5.\n",
    "\"cat\" in spam can be keys or values whereas \"cat\" in spam.keys() will check whether one of such key exists in this dictionary."
   ]
  },
  {
   "cell_type": "raw",
   "id": "95311409",
   "metadata": {},
   "source": [
    "6. If a dictionary is stored in spam, what is the difference between the expressions 'cat' in spam and 'cat' in spam.values()?\n"
   ]
  },
  {
   "cell_type": "raw",
   "id": "582a18fc",
   "metadata": {},
   "source": [
    "Ans6.\n",
    "'cat' in spam.values() checks for value 'cat' for one of the keys in spam whereas 'cat' in spam checks whether there is a 'cat' key in the dictionary."
   ]
  },
  {
   "cell_type": "raw",
   "id": "d2eb130a",
   "metadata": {},
   "source": [
    "7. What is a shortcut for the following code?\n",
    "if 'color' not in spam:\n",
    "spam['color'] = 'black'\n"
   ]
  },
  {
   "cell_type": "raw",
   "id": "5ad6dded",
   "metadata": {},
   "source": [
    "Ans7.\n",
    "spam.setdefault('color','black')"
   ]
  },
  {
   "cell_type": "raw",
   "id": "033beff8",
   "metadata": {},
   "source": [
    "8. How do you \"pretty print\" dictionary values using which module and function?\n"
   ]
  },
  {
   "cell_type": "raw",
   "id": "b8dbb837",
   "metadata": {},
   "source": [
    "Ans8.\n",
    "pretty print can be used to print a dictionary by following ways -\n",
    "\n",
    "by using pprint() function of pprint module\n",
    "Note: pprint() function doesnot prettify nested dictionaries\n",
    "by using dumps() method of json module\n",
    "by using dumps() method of yaml module"
   ]
  },
  {
   "cell_type": "code",
   "execution_count": 4,
   "id": "a03ccd16",
   "metadata": {},
   "outputs": [
    {
     "name": "stdout",
     "output_type": "stream",
     "text": [
      "Using print() function\n",
      " [{'Serial': 'Prisonbreak', 'Year': 1996, 'Rating': {'Thrill': 7, 'Horror': 8}}, {'Serial': 'ManofSteel', 'Year': 2006, 'Rating': {'Thrill': 2, 'Horror': 5}}, {'Serial': 'Witcher', 'Year': 2016, 'Rating': {'Thrill': 12, 'Horror': 8}}, {'Serial': 'Prisonbreak2', 'Year': 2016, 'Rating': {'Thrill': 7, 'Horror': 8}}]\n",
      "----------------------------------------------------------------------\n",
      "Using pprint() funciton\n",
      "[{'Rating': {'Horror': 8, 'Thrill': 7}, 'Serial': 'Prisonbreak', 'Year': 1996},\n",
      " {'Rating': {'Horror': 5, 'Thrill': 2}, 'Serial': 'ManofSteel', 'Year': 2006},\n",
      " {'Rating': {'Horror': 8, 'Thrill': 12}, 'Serial': 'Witcher', 'Year': 2016},\n",
      " {'Rating': {'Horror': 8, 'Thrill': 7}, 'Serial': 'Prisonbreak2', 'Year': 2016}]\n",
      "----------------------------------------------------------------------\n",
      "Using dumps() method\n",
      " [\n",
      "    {\n",
      "        \"Serial\": \"Prisonbreak\",\n",
      "        \"Year\": 1996,\n",
      "        \"Rating\": {\n",
      "            \"Thrill\": 7,\n",
      "            \"Horror\": 8\n",
      "        }\n",
      "    },\n",
      "    {\n",
      "        \"Serial\": \"ManofSteel\",\n",
      "        \"Year\": 2006,\n",
      "        \"Rating\": {\n",
      "            \"Thrill\": 2,\n",
      "            \"Horror\": 5\n",
      "        }\n",
      "    },\n",
      "    {\n",
      "        \"Serial\": \"Witcher\",\n",
      "        \"Year\": 2016,\n",
      "        \"Rating\": {\n",
      "            \"Thrill\": 12,\n",
      "            \"Horror\": 8\n",
      "        }\n",
      "    },\n",
      "    {\n",
      "        \"Serial\": \"Prisonbreak2\",\n",
      "        \"Year\": 2016,\n",
      "        \"Rating\": {\n",
      "            \"Thrill\": 7,\n",
      "            \"Horror\": 8\n",
      "        }\n",
      "    }\n",
      "]\n",
      "----------------------------------------------------------------------\n",
      "Using dump() method\n",
      " - Rating:\n",
      "    Horror: 8\n",
      "    Thrill: 7\n",
      "  Serial: Prisonbreak\n",
      "  Year: 1996\n",
      "- Rating:\n",
      "    Horror: 5\n",
      "    Thrill: 2\n",
      "  Serial: ManofSteel\n",
      "  Year: 2006\n",
      "- Rating:\n",
      "    Horror: 8\n",
      "    Thrill: 12\n",
      "  Serial: Witcher\n",
      "  Year: 2016\n",
      "- Rating:\n",
      "    Horror: 8\n",
      "    Thrill: 7\n",
      "  Serial: Prisonbreak2\n",
      "  Year: 2016\n",
      "\n"
     ]
    }
   ],
   "source": [
    "dict1 = [\n",
    "    {'Serial': 'Prisonbreak', 'Year': 1996, 'Rating': {'Thrill':7, 'Horror': 8}},\n",
    "    {'Serial': 'ManofSteel', 'Year': 2006, 'Rating': {'Thrill':2, 'Horror': 5}},\n",
    "    {'Serial': 'Witcher', 'Year': 2016, 'Rating': {'Thrill':12, 'Horror': 8}},\n",
    "    {'Serial': 'Prisonbreak2', 'Year': 2016, 'Rating': {'Thrill':7, 'Horror': 8}},\n",
    "]\n",
    "\n",
    "\n",
    "print('Using print() function\\n',dict1)\n",
    "print('-'*70)\n",
    "\n",
    "import pprint\n",
    "print('Using pprint() funciton')\n",
    "pprint.pprint(dict1)\n",
    "print('-'*70)\n",
    "\n",
    "import json\n",
    "dump_dict = json.dumps(dict1, indent=4)\n",
    "print('Using dumps() method\\n', dump_dict)\n",
    "print('-'*70)\n",
    "\n",
    "import yaml\n",
    "dump_dict1 = yaml.dump(dict1)\n",
    "print('Using dump() method\\n', dump_dict1)"
   ]
  },
  {
   "cell_type": "code",
   "execution_count": null,
   "id": "43ee17f0",
   "metadata": {},
   "outputs": [],
   "source": []
  }
 ],
 "metadata": {
  "kernelspec": {
   "display_name": "Python 3 (ipykernel)",
   "language": "python",
   "name": "python3"
  },
  "language_info": {
   "codemirror_mode": {
    "name": "ipython",
    "version": 3
   },
   "file_extension": ".py",
   "mimetype": "text/x-python",
   "name": "python",
   "nbconvert_exporter": "python",
   "pygments_lexer": "ipython3",
   "version": "3.9.7"
  }
 },
 "nbformat": 4,
 "nbformat_minor": 5
}

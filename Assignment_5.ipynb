{
 "cells": [
  {
   "cell_type": "code",
   "execution_count": null,
   "id": "146b076a",
   "metadata": {},
   "outputs": [],
   "source": [
    "1. What does an empty dictionary's code look like?"
   ]
  },
  {
   "cell_type": "code",
   "execution_count": null,
   "id": "ca440e6f",
   "metadata": {},
   "outputs": [],
   "source": [
    "Ans1. \n",
    "x={}, y=dict()"
   ]
  },
  {
   "cell_type": "code",
   "execution_count": null,
   "id": "39bcbea8",
   "metadata": {},
   "outputs": [],
   "source": [
    "2. What is the value of a dictionary value with the key 'foo' and the value 42?"
   ]
  },
  {
   "cell_type": "code",
   "execution_count": null,
   "id": "c9a0a6da",
   "metadata": {},
   "outputs": [],
   "source": [
    "Ans2. \n",
    "42 is the value & foo is the key in dictionary named value\n",
    "value['foo']=42 "
   ]
  },
  {
   "cell_type": "code",
   "execution_count": null,
   "id": "a1f3c729",
   "metadata": {},
   "outputs": [],
   "source": [
    "3. What is the most significant distinction between a dictionary and a list?\n"
   ]
  },
  {
   "cell_type": "code",
   "execution_count": null,
   "id": "102befd4",
   "metadata": {},
   "outputs": [],
   "source": [
    "Ans3.\n",
    "list have square brackets [] whereas dict is having curly braces {}\n",
    "list can elements as all types whereas in dictionary keys shall be only string type, also all keys should be distinct whereas in list repetitions are not the issues."
   ]
  },
  {
   "cell_type": "code",
   "execution_count": null,
   "id": "794da03b",
   "metadata": {},
   "outputs": [],
   "source": [
    "4. What happens if you try to access spam['foo'] if spam is {'bar': 100}?\n"
   ]
  },
  {
   "cell_type": "code",
   "execution_count": null,
   "id": "c2861cf5",
   "metadata": {},
   "outputs": [],
   "source": [
    "Ans4.\n",
    "it will give - key error"
   ]
  },
  {
   "cell_type": "code",
   "execution_count": null,
   "id": "5ff14e04",
   "metadata": {},
   "outputs": [],
   "source": [
    "5. If a dictionary is stored in spam, what is the difference between the expressions 'cat' in spam and 'cat' in spam.keys()?\n"
   ]
  },
  {
   "cell_type": "code",
   "execution_count": null,
   "id": "afc0df5a",
   "metadata": {},
   "outputs": [],
   "source": [
    "Ans5.\n",
    "\"cat\" in spam can be keys or values whereas \"cat\" in spam.keys() will check whether one of such key exists in this dictionary."
   ]
  },
  {
   "cell_type": "code",
   "execution_count": null,
   "id": "8ec13bb5",
   "metadata": {},
   "outputs": [],
   "source": [
    "6. If a dictionary is stored in spam, what is the difference between the expressions 'cat' in spam and 'cat' in spam.values()?\n"
   ]
  },
  {
   "cell_type": "code",
   "execution_count": null,
   "id": "391f3a39",
   "metadata": {},
   "outputs": [],
   "source": [
    "Ans6.\n",
    "'cat' in spam.values() checks for value 'cat' for one of the keys in spam whereas 'cat' in spam checks whether there is a 'cat' key in the dictionary."
   ]
  },
  {
   "cell_type": "code",
   "execution_count": null,
   "id": "dc555542",
   "metadata": {},
   "outputs": [],
   "source": [
    "7. What is a shortcut for the following code?\n",
    "if 'color' not in spam:\n",
    "spam['color'] = 'black'\n"
   ]
  },
  {
   "cell_type": "code",
   "execution_count": null,
   "id": "bf42f8d3",
   "metadata": {},
   "outputs": [],
   "source": [
    "Ans7.\n",
    "spam.setdefault('color','black')"
   ]
  },
  {
   "cell_type": "code",
   "execution_count": null,
   "id": "b1b54079",
   "metadata": {},
   "outputs": [],
   "source": [
    "8. How do you \"pretty print\" dictionary values using which module and function?\n"
   ]
  },
  {
   "cell_type": "code",
   "execution_count": null,
   "id": "ac58ce58",
   "metadata": {},
   "outputs": [],
   "source": [
    "Ans8.\n",
    "pretty print can be used to print a dictionary by following ways -\n",
    "\n",
    "by using pprint() function of pprint module\n",
    "Note: pprint() function doesnot prettify nested dictionaries\n",
    "by using dumps() method of json module\n",
    "by using dumps() method of yaml module"
   ]
  },
  {
   "cell_type": "code",
   "execution_count": null,
   "id": "ca4e0634",
   "metadata": {},
   "outputs": [],
   "source": [
    "dict1 = [\n",
    "    {'Serial': 'Prisonbreak', 'Year': 1996, 'Rating': {'Thrill':7, 'Horror': 8}},\n",
    "    {'Serial': 'ManofSteel', 'Year': 2006, 'Rating': {'Thrill':2, 'Horror': 5}},\n",
    "    {'Serial': 'Witcher', 'Year': 2016, 'Rating': {'Thrill':12, 'Horror': 8}},\n",
    "    {'Serial': 'Prisonbreak2', 'Year': 2016, 'Rating': {'Thrill':7, 'Horror': 8}},\n",
    "]\n",
    "\n",
    "\n",
    "print('Using print() function\\n',dict1)\n",
    "print('-'*70)\n",
    "\n",
    "import pprint\n",
    "print('Using pprint() funciton')\n",
    "pprint.pprint(dict1)\n",
    "print('-'*70)\n",
    "\n",
    "import json\n",
    "dump_dict = json.dumps(dict1, indent=4)\n",
    "print('Using dumps() method\\n', dump_dict)\n",
    "print('-'*70)\n",
    "\n",
    "import yaml\n",
    "dump_dict1 = yaml.dump(dict1)\n",
    "print('Using dump() method\\n', dump_dict1)"
   ]
  },
  {
   "cell_type": "code",
   "execution_count": null,
   "id": "b8e9004c",
   "metadata": {},
   "outputs": [],
   "source": []
  }
 ],
 "metadata": {
  "kernelspec": {
   "display_name": "Python 3 (ipykernel)",
   "language": "python",
   "name": "python3"
  },
  "language_info": {
   "codemirror_mode": {
    "name": "ipython",
    "version": 3
   },
   "file_extension": ".py",
   "mimetype": "text/x-python",
   "name": "python",
   "nbconvert_exporter": "python",
   "pygments_lexer": "ipython3",
   "version": "3.9.7"
  }
 },
 "nbformat": 4,
 "nbformat_minor": 5
}

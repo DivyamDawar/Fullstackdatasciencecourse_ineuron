{
 "cells": [
  {
   "cell_type": "code",
   "execution_count": null,
   "id": "cba3aabe",
   "metadata": {},
   "outputs": [],
   "source": [
    "1. What are escape characters, and how do you use them?"
   ]
  },
  {
   "cell_type": "code",
   "execution_count": null,
   "id": "8c6484e2",
   "metadata": {},
   "outputs": [],
   "source": [
    "Ans1.\n",
    "escape characters are backslashed followed by charcter you want to insert it is used to insert illegal characters in string such as \"Divyam\" in \"Hy my name is \"Divyam\"\" we can use escape character \\\" & it will become \"Hy my name is \\\"Divyam\\\"\" which will allow to use double quote which we normally can't. \n"
   ]
  },
  {
   "cell_type": "code",
   "execution_count": null,
   "id": "47a5f20c",
   "metadata": {},
   "outputs": [],
   "source": [
    "2. What do the escape characters n and t stand for?"
   ]
  },
  {
   "cell_type": "code",
   "execution_count": null,
   "id": "f091df2b",
   "metadata": {},
   "outputs": [],
   "source": [
    "Ans2.\n",
    "n - stands for new line\n",
    "t - stands for tab\n"
   ]
  },
  {
   "cell_type": "code",
   "execution_count": null,
   "id": "7d5f4aef",
   "metadata": {},
   "outputs": [],
   "source": [
    "3. What is the way to include backslash characters in a string?\n"
   ]
  },
  {
   "cell_type": "code",
   "execution_count": null,
   "id": "9a1c1646",
   "metadata": {},
   "outputs": [],
   "source": [
    "Ans3.\n",
    "By \\\\ or @ at the start of your string. It can be included by using backslash twice."
   ]
  },
  {
   "cell_type": "code",
   "execution_count": null,
   "id": "77958a50",
   "metadata": {},
   "outputs": [],
   "source": [
    "4. The string \"Howl's Moving Castle\" is a correct value. Why isn't the single quote character in the word Howl's not escaped a problem?\n"
   ]
  },
  {
   "cell_type": "code",
   "execution_count": null,
   "id": "e9dc588e",
   "metadata": {},
   "outputs": [],
   "source": [
    "Ans4.\n",
    "It escaped as it has been covered in double quotes which is the main string, if it was single quotes than \\' would be used"
   ]
  },
  {
   "cell_type": "code",
   "execution_count": null,
   "id": "720385db",
   "metadata": {},
   "outputs": [],
   "source": [
    "5. How do you write a string of newlines if you don't want to use the n character?"
   ]
  },
  {
   "cell_type": "code",
   "execution_count": null,
   "id": "9b77bb8f",
   "metadata": {},
   "outputs": [],
   "source": [
    "Ans5.\n",
    "By using three quotes such as below\n",
    "i= '''Howl\n",
    "Moving Castle'''"
   ]
  },
  {
   "cell_type": "code",
   "execution_count": null,
   "id": "f2bc2461",
   "metadata": {},
   "outputs": [],
   "source": [
    "6. What are the values of the given expressions?\n",
    "'Hello, world!'[1]\n",
    "'Hello, world!'[0:5]\n",
    "'Hello, world!'[:5]\n",
    "'Hello, world!'[3:]\n"
   ]
  },
  {
   "cell_type": "code",
   "execution_count": null,
   "id": "2eaf1096",
   "metadata": {},
   "outputs": [],
   "source": [
    "Ans6.\n",
    "'e'\n",
    "'Hello'\n",
    "'Hello'\n",
    "'lo, world!'"
   ]
  },
  {
   "cell_type": "code",
   "execution_count": null,
   "id": "0aa1fb2c",
   "metadata": {},
   "outputs": [],
   "source": [
    "7. What are the values of the following expressions?\n",
    "'Hello'.upper()\n",
    "'Hello'.upper().isupper()\n",
    "'Hello'.upper().lower()\n"
   ]
  },
  {
   "cell_type": "code",
   "execution_count": null,
   "id": "afc6e597",
   "metadata": {},
   "outputs": [],
   "source": [
    "Ans7.\n",
    "'HELLO'\n",
    "True\n",
    "'hello'\n"
   ]
  },
  {
   "cell_type": "code",
   "execution_count": null,
   "id": "7e523e2c",
   "metadata": {},
   "outputs": [],
   "source": [
    "8. What are the values of the following expressions?\n",
    "'Remember, remember, the fifth of July.'.split()\n",
    "'-'.join('There can only one.'.split())\n"
   ]
  },
  {
   "cell_type": "code",
   "execution_count": null,
   "id": "f69eba07",
   "metadata": {},
   "outputs": [],
   "source": [
    "Ans8.\n",
    "['Remember,', 'remember,', 'the', 'fifth', 'of', 'July.']\n",
    "'There-can-only-one.'\n"
   ]
  },
  {
   "cell_type": "code",
   "execution_count": null,
   "id": "71908101",
   "metadata": {},
   "outputs": [],
   "source": [
    "9. What are the methods for right-justifying, left-justifying, and centering a string?\n"
   ]
  },
  {
   "cell_type": "code",
   "execution_count": null,
   "id": "d213026c",
   "metadata": {},
   "outputs": [],
   "source": [
    "Ans9.\n",
    "\n",
    "i= '''Howl\n",
    "Moving Castle'''\n",
    "\n",
    "left- justifying - print(i.ljust(40,\"\\n\"))\n",
    "right- justifying - print(i.rjust(40,\"\\n\"))\n",
    "center- justifying - print(i.center(40,\"\\n\"))"
   ]
  },
  {
   "cell_type": "code",
   "execution_count": null,
   "id": "2b8576b5",
   "metadata": {},
   "outputs": [],
   "source": [
    "10. What is the best way to remove whitespace characters from the start or end?\n"
   ]
  },
  {
   "cell_type": "code",
   "execution_count": null,
   "id": "7645468a",
   "metadata": {},
   "outputs": [],
   "source": [
    "Ans10.\n",
    "\n",
    "l=\" Hy\"\n",
    "l.strip() removes spaces from both end\n",
    "l.lstrip() for left space removing\n",
    "l.rstrip() for right space removing"
   ]
  }
 ],
 "metadata": {
  "kernelspec": {
   "display_name": "Python 3 (ipykernel)",
   "language": "python",
   "name": "python3"
  },
  "language_info": {
   "codemirror_mode": {
    "name": "ipython",
    "version": 3
   },
   "file_extension": ".py",
   "mimetype": "text/x-python",
   "name": "python",
   "nbconvert_exporter": "python",
   "pygments_lexer": "ipython3",
   "version": "3.9.7"
  }
 },
 "nbformat": 4,
 "nbformat_minor": 5
}

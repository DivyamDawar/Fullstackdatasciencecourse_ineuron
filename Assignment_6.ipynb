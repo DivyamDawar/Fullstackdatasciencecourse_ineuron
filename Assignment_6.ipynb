{
 "cells": [
  {
   "cell_type": "raw",
   "id": "ee0916f6",
   "metadata": {},
   "source": [
    "1. What are escape characters, and how do you use them?"
   ]
  },
  {
   "cell_type": "raw",
   "id": "e2151234",
   "metadata": {},
   "source": [
    "Ans1.\n",
    "escape characters are backslashed followed by charcter you want to insert it is used to insert illegal characters in string such as \"Divyam\" in \"Hy my name is \"Divyam\"\" we can use escape character \\\" & it will become \"Hy my name is \\\"Divyam\\\"\" which will allow to use double quote which we normally can't. \n"
   ]
  },
  {
   "cell_type": "raw",
   "id": "6653288b",
   "metadata": {},
   "source": [
    "2. What do the escape characters n and t stand for?"
   ]
  },
  {
   "cell_type": "raw",
   "id": "f5c15233",
   "metadata": {},
   "source": [
    "Ans2.\n",
    "n - stands for new line\n",
    "t - stands for tab\n"
   ]
  },
  {
   "cell_type": "raw",
   "id": "a6613f0a",
   "metadata": {},
   "source": [
    "3. What is the way to include backslash characters in a string?\n"
   ]
  },
  {
   "cell_type": "raw",
   "id": "73e478e1",
   "metadata": {},
   "source": [
    "Ans3.\n",
    "By \\\\ or @ at the start of your string. It can be included by using backslash followed by characters we want to insert."
   ]
  },
  {
   "cell_type": "raw",
   "id": "7a7e7ac4",
   "metadata": {},
   "source": [
    "4. The string \"Howl's Moving Castle\" is a correct value. Why isn't the single quote character in the word Howl's not escaped a problem?\n"
   ]
  },
  {
   "cell_type": "raw",
   "id": "cd534e8f",
   "metadata": {},
   "source": [
    "Ans4.\n",
    "It escaped as it has been covered in double quotes which is the main string, if it was single quotes than \\' would be used"
   ]
  },
  {
   "cell_type": "raw",
   "id": "ff11586f",
   "metadata": {},
   "source": [
    "5. How do you write a string of newlines if you don't want to use the n character?"
   ]
  },
  {
   "cell_type": "raw",
   "id": "29aaa943",
   "metadata": {},
   "source": [
    "Ans5.\n",
    "By using three quotes such as below\n",
    "i= '''Howl\n",
    "Moving Castle'''"
   ]
  },
  {
   "cell_type": "raw",
   "id": "de8fa5bf",
   "metadata": {},
   "source": [
    "6. What are the values of the given expressions?\n",
    "'Hello, world!'[1]\n",
    "'Hello, world!'[0:5]\n",
    "'Hello, world!'[:5]\n",
    "'Hello, world!'[3:]\n"
   ]
  },
  {
   "cell_type": "raw",
   "id": "9d5d7237",
   "metadata": {},
   "source": [
    "Ans6.\n",
    "'e'\n",
    "'Hello'\n",
    "'Hello'\n",
    "'lo, world!'"
   ]
  },
  {
   "cell_type": "raw",
   "id": "a4f718d1",
   "metadata": {},
   "source": [
    "7. What are the values of the following expressions?\n",
    "'Hello'.upper()\n",
    "'Hello'.upper().isupper()\n",
    "'Hello'.upper().lower()\n"
   ]
  },
  {
   "cell_type": "raw",
   "id": "6916d4eb",
   "metadata": {},
   "source": [
    "Ans7.\n",
    "'HELLO'\n",
    "True\n",
    "'hello'\n"
   ]
  },
  {
   "cell_type": "raw",
   "id": "910633df",
   "metadata": {},
   "source": [
    "8. What are the values of the following expressions?\n",
    "'Remember, remember, the fifth of July.'.split()\n",
    "'-'.join('There can only one.'.split())\n"
   ]
  },
  {
   "cell_type": "raw",
   "id": "340fff4e",
   "metadata": {},
   "source": [
    "Ans8.\n",
    "['Remember,', 'remember,', 'the', 'fifth', 'of', 'July.']\n",
    "'There-can-only-one.'\n"
   ]
  },
  {
   "cell_type": "raw",
   "id": "7daa9de2",
   "metadata": {},
   "source": [
    "9. What are the methods for right-justifying, left-justifying, and centering a string?\n"
   ]
  },
  {
   "cell_type": "raw",
   "id": "80d2bff4",
   "metadata": {},
   "source": [
    "Ans9.\n",
    "\n",
    "i= '''Howl\n",
    "Moving Castle'''\n",
    "\n",
    "left- justifying - print(i.ljust(40,\"\\n\"))\n",
    "right- justifying - print(i.rjust(40,\"\\n\"))\n",
    "center- justifying - print(i.center(40,\"\\n\"))"
   ]
  },
  {
   "cell_type": "raw",
   "id": "fbb934b9",
   "metadata": {},
   "source": [
    "10. What is the best way to remove whitespace characters from the start or end?\n"
   ]
  },
  {
   "cell_type": "raw",
   "id": "d9679e42",
   "metadata": {},
   "source": [
    "Ans10.\n",
    "\n",
    "l=\" Hy\"\n",
    "l.strip() removes spaces from both end\n",
    "l.lstrip() for left space removing\n",
    "l.rstrip() for right space removing"
   ]
  }
 ],
 "metadata": {
  "kernelspec": {
   "display_name": "Python 3 (ipykernel)",
   "language": "python",
   "name": "python3"
  },
  "language_info": {
   "codemirror_mode": {
    "name": "ipython",
    "version": 3
   },
   "file_extension": ".py",
   "mimetype": "text/x-python",
   "name": "python",
   "nbconvert_exporter": "python",
   "pygments_lexer": "ipython3",
   "version": "3.9.7"
  }
 },
 "nbformat": 4,
 "nbformat_minor": 5
}
